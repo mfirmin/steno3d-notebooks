{
 "cells": [
  {
   "cell_type": "code",
   "execution_count": null,
   "metadata": {
    "collapsed": true
   },
   "outputs": [],
   "source": [
    "import steno3d\n",
    "# files can be found at: http://www.tc18.org/code_data_set/3D_images.html\n",
    "FILENAME = './bonsai.raw' \n",
    "FILE_X = 256\n",
    "FILE_Y = 256\n",
    "FILE_Z = 256"
   ]
  },
  {
   "cell_type": "code",
   "execution_count": 36,
   "metadata": {
    "collapsed": false
   },
   "outputs": [
    {
     "name": "stdout",
     "output_type": "stream",
     "text": [
      "\n",
      "You are already logged in as @michael. To log in as a different user\n",
      "please `steno3d.logout()`, then login specifying a different\n",
      "username or API developer key.\n",
      "\n",
      "\n"
     ]
    }
   ],
   "source": [
    "steno3d.login()"
   ]
  },
  {
   "cell_type": "code",
   "execution_count": 37,
   "metadata": {
    "collapsed": false
   },
   "outputs": [],
   "source": [
    "import numpy as np\n",
    "import math\n"
   ]
  },
  {
   "cell_type": "code",
   "execution_count": 38,
   "metadata": {
    "collapsed": false
   },
   "outputs": [],
   "source": [
    "def trilinearInterpolate(xyz, data):\n",
    "    x0 = math.floor(xyz[0])\n",
    "    y0 = math.floor(xyz[1])\n",
    "    z0 = math.floor(xyz[2])\n",
    "    if (x0 == len(data) - 1): \n",
    "        x0 = x0 - 1\n",
    "    if (y0 == len(data[0]) - 1): \n",
    "        y0 = y0 - 1\n",
    "    if (z0 == len(data[0][0]) - 1): \n",
    "        z0 = z0 - 1\n",
    "        \n",
    "    x1 = x0 + 1\n",
    "    y1 = y0 + 1\n",
    "    z1 = z0 + 1\n",
    "    \n",
    "    xd = (xyz[0] - x0) / (x1  - x0)\n",
    "    yd = (xyz[1] - y0) / (y1  - y0)\n",
    "    zd = (xyz[2] - z0) / (z1  - z0)\n",
    "    \n",
    "    c00 = data[x0, y0, z0] * (1 - xd) + data[x1, y0, z0] * xd\n",
    "    c01 = data[x0, y0, z1] * (1 - xd) + data[x1, y0, z1] * xd\n",
    "    c10 = data[x0, y1, z0] * (1 - xd) + data[x1, y1, z0] * xd\n",
    "    c11 = data[x0, y1, z1] * (1 - xd) + data[x1, y1, z1] * xd\n",
    "    \n",
    "    c0 = c00 * (1 - yd) + c10 * yd\n",
    "    c1 = c01 * (1 - yd) + c11 * yd\n",
    "    \n",
    "    c = c0 * (1 - zd) + c1 * zd\n",
    "    \n",
    "    return c"
   ]
  },
  {
   "cell_type": "code",
   "execution_count": 39,
   "metadata": {
    "collapsed": false
   },
   "outputs": [],
   "source": [
    "data = np.fromfile(FILENAME, '<u1').reshape((FILE_X,FILE_Y,FILE_Z))\n"
   ]
  },
  {
   "cell_type": "code",
   "execution_count": 40,
   "metadata": {
    "collapsed": false
   },
   "outputs": [
    {
     "name": "stderr",
     "output_type": "stream",
     "text": [
      "/usr/local/lib/python2.7/dist-packages/ipykernel/__main__.py:20: VisibleDeprecationWarning: using a non-integer number instead of an integer will result in an error in the future\n",
      "/usr/local/lib/python2.7/dist-packages/ipykernel/__main__.py:21: VisibleDeprecationWarning: using a non-integer number instead of an integer will result in an error in the future\n",
      "/usr/local/lib/python2.7/dist-packages/ipykernel/__main__.py:22: VisibleDeprecationWarning: using a non-integer number instead of an integer will result in an error in the future\n",
      "/usr/local/lib/python2.7/dist-packages/ipykernel/__main__.py:23: VisibleDeprecationWarning: using a non-integer number instead of an integer will result in an error in the future\n"
     ]
    }
   ],
   "source": [
    "num_x = 100\n",
    "num_y = 100\n",
    "num_z = 100\n",
    "\n",
    "data_out = np.zeros(num_x*num_y*num_z)\n",
    "\n",
    "\n",
    "\n",
    "for i in range(num_x):\n",
    "    for j in range(num_y):\n",
    "        for k in range(num_z):\n",
    "            x = float(i) / (num_z - 1) * (FILE_X - 1)\n",
    "            y = float(j) / (num_y - 1) * (FILE_Y - 1)\n",
    "            z = float(k) / (num_z - 1) * (FILE_Z - 1)\n",
    "            index = i * num_z * num_y + k * num_y + j\n",
    "            data_out[index] = trilinearInterpolate((x,y,z), data)"
   ]
  },
  {
   "cell_type": "code",
   "execution_count": 41,
   "metadata": {
    "collapsed": false
   },
   "outputs": [
    {
     "name": "stdout",
     "output_type": "stream",
     "text": [
      "Verifying your quota for private projects...\n",
      "Uploading project: \n",
      "    Uploading volume: \n",
      "        Uploading mesh3dgrid: \n",
      "        ... Complete!\n",
      "        Uploading array: \n",
      "        ... Complete!\n",
      "    ... Complete!\n",
      "... Complete!\n",
      "https://steno3d.com/app/Z4FkwDLyWfYkI3t0Nc9G\n"
     ]
    },
    {
     "data": {
      "text/plain": [
       "u'https://steno3d.com/app/Z4FkwDLyWfYkI3t0Nc9G'"
      ]
     },
     "execution_count": 41,
     "metadata": {},
     "output_type": "execute_result"
    }
   ],
   "source": [
    "max_dim = np.max([FILE_X,FILE_Y,FILE_Z])\n",
    "\n",
    "h1 = np.ones(num_x) * float(FILE_X) / max_dim\n",
    "h3 = np.ones(num_y) * float(FILE_Y) / max_dim\n",
    "h2 = np.ones(num_z) * float(FILE_Z) / max_dim\n",
    "\n",
    "mesh = steno3d.Mesh3DGrid(\n",
    "    h1=h1, h2=h2, h3=h3\n",
    ")\n",
    "volume = steno3d.Volume(\n",
    "    mesh = mesh,\n",
    "    project=steno3d.Project(),\n",
    "    data=dict(\n",
    "        data=steno3d.DataArray(\n",
    "            array=data_out,\n",
    "        ),\n",
    "        location='CC'\n",
    "    )\n",
    ")\n",
    "volume.project[0].upload()"
   ]
  },
  {
   "cell_type": "code",
   "execution_count": null,
   "metadata": {
    "collapsed": true
   },
   "outputs": [],
   "source": []
  },
  {
   "cell_type": "code",
   "execution_count": null,
   "metadata": {
    "collapsed": true
   },
   "outputs": [],
   "source": []
  }
 ],
 "metadata": {
  "kernelspec": {
   "display_name": "Python 2",
   "language": "python",
   "name": "python2"
  },
  "language_info": {
   "codemirror_mode": {
    "name": "ipython",
    "version": 2
   },
   "file_extension": ".py",
   "mimetype": "text/x-python",
   "name": "python",
   "nbconvert_exporter": "python",
   "pygments_lexer": "ipython2",
   "version": "2.7.12"
  }
 },
 "nbformat": 4,
 "nbformat_minor": 1
}
